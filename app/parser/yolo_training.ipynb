{
 "cells": [
  {
   "cell_type": "code",
   "execution_count": 48,
   "metadata": {
    "colab": {
     "base_uri": "https://localhost:8080/"
    },
    "executionInfo": {
     "elapsed": 212,
     "status": "ok",
     "timestamp": 1743040758009,
     "user": {
      "displayName": "Shanur Rahman",
      "userId": "16244679842763298678"
     },
     "user_tz": -330
    },
    "id": "DevufgzdrutE",
    "outputId": "a9d857cb-3fd8-4ac5-b0a8-5f6f7988c496"
   },
   "outputs": [],
   "source": [
    "!nvidia-smi"
   ]
  },
  {
   "cell_type": "code",
   "execution_count": null,
   "metadata": {
    "colab": {
     "background_save": true,
     "base_uri": "https://localhost:8080/"
    },
    "id": "Y8nfaks2ryPi"
   },
   "outputs": [],
   "source": [
    "# Install the Ultralytics package\n",
    "!pip install ultralytics\n",
    "\n",
    "# Check installation (optional)\n",
    "import ultralytics\n",
    "ultralytics.checks()"
   ]
  },
  {
   "cell_type": "code",
   "execution_count": 21,
   "metadata": {
    "colab": {
     "base_uri": "https://localhost:8080/"
    },
    "executionInfo": {
     "elapsed": 26753,
     "status": "ok",
     "timestamp": 1743040485024,
     "user": {
      "displayName": "Shanur Rahman",
      "userId": "16244679842763298678"
     },
     "user_tz": -330
    },
    "id": "6uH-1IuJsEc2",
    "outputId": "ea6a4a40-8e7a-48ce-a0fe-988fb6b3aa6f"
   },
   "outputs": [],
   "source": [
    "from google.colab import drive\n",
    "drive.mount('/content/drive')"
   ]
  },
  {
   "cell_type": "code",
   "execution_count": 3,
   "metadata": {
    "colab": {
     "base_uri": "https://localhost:8080/"
    },
    "executionInfo": {
     "elapsed": 97,
     "status": "ok",
     "timestamp": 1743037333032,
     "user": {
      "displayName": "Shanur Rahman",
      "userId": "16244679842763298678"
     },
     "user_tz": -330
    },
    "id": "oOJLXPegvIfP",
    "outputId": "e30fe11c-6e15-478b-a398-7ba00457a4fb"
   },
   "outputs": [],
   "source": [
    "!ls /content/drive/MyDrive/yolo"
   ]
  },
  {
   "cell_type": "markdown",
   "metadata": {
    "id": "ho3GThn0vIRB"
   },
   "source": []
  },
  {
   "cell_type": "code",
   "execution_count": 4,
   "metadata": {
    "colab": {
     "base_uri": "https://localhost:8080/"
    },
    "executionInfo": {
     "elapsed": 116,
     "status": "ok",
     "timestamp": 1743037342717,
     "user": {
      "displayName": "Shanur Rahman",
      "userId": "16244679842763298678"
     },
     "user_tz": -330
    },
    "id": "BJDa4qCjsdGq",
    "outputId": "68f52ff3-c7d0-4285-db26-34075fb1a381"
   },
   "outputs": [],
   "source": [
    "import yaml\n",
    "\n",
    "# --- MODIFY THESE PATHS ---\n",
    "# Path to the root directory of your dataset (containing 'images' and 'labels' folders)\n",
    "# Adjust this path based on how you loaded your data (e.g., '/content/dataset' or '/content/drive/MyDrive/my_yolo_dataset')\n",
    "dataset_root_dir = '/content/drive/MyDrive/yolo' # CHANGE THIS\n",
    "\n",
    "# Define the dataset configuration\n",
    "data_yaml = {\n",
    "    'path': dataset_root_dir,  # dataset root directory\n",
    "    'train': 'train',  # train images (relative to 'path')\n",
    "    'val': 'valid',      # val images (relative to 'path')\n",
    "    # 'test': 'images/test', # test images (optional)\n",
    "\n",
    "    # --- MODIFY CLASS INFORMATION ---\n",
    "    'nc': 9,  # number of classes\n",
    "    'names': ['button', 'card', 'field', 'heading', 'icon', 'image', 'link', 'paragraph', 'text']\n",
    "    # Example: 'names': ['person', 'car', 'traffic_light']\n",
    "}\n",
    "\n",
    "# --- SPECIFY WHERE TO SAVE THE YAML FILE ---\n",
    "# Make sure the directory exists if it's not the root\n",
    "yaml_file_path = 'data.yaml' # You can place this anywhere, e.g., inside your dataset folder\n",
    "\n",
    "# Write the dictionary to the YAML file\n",
    "with open(yaml_file_path, 'w') as outfile:\n",
    "    yaml.dump(data_yaml, outfile, default_flow_style=False)\n",
    "\n",
    "print(f\"Created {yaml_file_path}\")\n",
    "# You can print the content to verify\n",
    "!cat {yaml_file_path}"
   ]
  },
  {
   "cell_type": "code",
   "execution_count": 9,
   "metadata": {
    "colab": {
     "base_uri": "https://localhost:8080/"
    },
    "executionInfo": {
     "elapsed": 996236,
     "status": "ok",
     "timestamp": 1743038692040,
     "user": {
      "displayName": "Shanur Rahman",
      "userId": "16244679842763298678"
     },
     "user_tz": -330
    },
    "id": "eVqZvypmudlR",
    "outputId": "c66bf87e-acd9-43d0-e706-a365819e0fc6"
   },
   "outputs": [],
   "source": [
    "!yolo train model={model_variant} \\\n",
    "            data={data_config_path} \\\n",
    "            epochs=300 \\\n",
    "            imgsz=640 \\\n",
    "            batch=16 \\\n",
    "            name='my_yolo_training_run' \\\n",
    "            patience=10\n",
    "\n",
    "# --- Explanation of Changes ---\n",
    "# epochs=300:   Increased the maximum number of epochs to 300. Training might finish earlier due to 'patience'.\n",
    "# imgsz=640:    Kept the image size the same.\n",
    "# batch=16:     Kept the batch size the same. Adjust if you have memory issues or capacity.\n",
    "# name='my_yolo_training_run': Changed the run name slightly to reflect the new settings and avoid overwriting previous runs.\n",
    "# patience=50:  Added the early stopping patience. Training will stop automatically if the primary validation metric (usually mAP50-95) does not improve for 50 consecutive epochs. The model saved as 'best.pt' will be from the epoch with the highest validation score."
   ]
  },
  {
   "cell_type": "code",
   "execution_count": 10,
   "metadata": {
    "colab": {
     "base_uri": "https://localhost:8080/"
    },
    "executionInfo": {
     "elapsed": 123,
     "status": "ok",
     "timestamp": 1743038828184,
     "user": {
      "displayName": "Shanur Rahman",
      "userId": "16244679842763298678"
     },
     "user_tz": -330
    },
    "id": "9PGK5wXz4RnU",
    "outputId": "3bfd2b57-23e4-491b-9702-19fe5d4ba382"
   },
   "outputs": [],
   "source": [
    "ls /content/drive/MyDrive/yolo/"
   ]
  },
  {
   "cell_type": "code",
   "execution_count": 12,
   "metadata": {
    "colab": {
     "base_uri": "https://localhost:8080/"
    },
    "executionInfo": {
     "elapsed": 6676,
     "status": "ok",
     "timestamp": 1743038875117,
     "user": {
      "displayName": "Shanur Rahman",
      "userId": "16244679842763298678"
     },
     "user_tz": -330
    },
    "id": "GN5JzAUm15Dm",
    "outputId": "20d1b127-d333-409f-82e3-da727e343f0c"
   },
   "outputs": [],
   "source": [
    "# --- Define the path to your BEST trained weights ---\n",
    "# Make sure this matches the path from your validation output\n",
    "model_path = 'runs/detect/my_yolo_training_run/weights/best.pt'\n",
    "\n",
    "# --- Define the path/URL/ID of your input source ---\n",
    "# >>> CHANGE THIS to your actual image, video, folder, URL, or 0 for webcam <<<\n",
    "source_path = '/content/drive/MyDrive/yolo/predict.png'\n",
    "# Example alternatives:\n",
    "# source_path = 'path/to/your/test_video.mp4'\n",
    "# source_path = 'path/to/your/test_images_folder/'\n",
    "# source_path = 'https://ultralytics.com/images/bus.jpg'\n",
    "# source_path = 0 # For webcam\n",
    "\n",
    "# --- Run Prediction ---\n",
    "!yolo predict model={model_path} source='{source_path}' imgsz=640 conf=0.25 save=True\n",
    "\n",
    "# --- Explanation of Arguments ---\n",
    "# model: Path to your trained .pt file.\n",
    "# source: The input image, video, directory, URL, or webcam ID. Use quotes around the path/URL.\n",
    "# imgsz: Image size for inference. Usually best to keep it the same as training (e.g., 640).\n",
    "# conf: Confidence threshold. Only detections with a score higher than this value will be kept (e.g., 0.25 means 25% confidence). Adjust as needed.\n",
    "# save: If True, saves the output image/video with bounding boxes drawn on it.\n",
    "# save_txt: (Optional) If True, saves results as .txt files (one per image) in YOLO format.\n",
    "# save_conf: (Optional) If True and save_txt=True, includes confidence scores in the .txt files.\n",
    "# show: (Optional) If True, tries to display the output image/video stream directly (might not always work smoothly in Colab)."
   ]
  },
  {
   "cell_type": "code",
   "execution_count": 14,
   "metadata": {
    "executionInfo": {
     "elapsed": 6,
     "status": "ok",
     "timestamp": 1743038882491,
     "user": {
      "displayName": "Shanur Rahman",
      "userId": "16244679842763298678"
     },
     "user_tz": -330
    },
    "id": "niSkXpTe5LQq"
   },
   "outputs": [],
   "source": [
    "from PIL import Image # For opening the image"
   ]
  },
  {
   "cell_type": "code",
   "execution_count": 28,
   "metadata": {
    "colab": {
     "base_uri": "https://localhost:8080/"
    },
    "executionInfo": {
     "elapsed": 97,
     "status": "ok",
     "timestamp": 1743039026248,
     "user": {
      "displayName": "Shanur Rahman",
      "userId": "16244679842763298678"
     },
     "user_tz": -330
    },
    "id": "fWoAGQ005jlp",
    "outputId": "4768404a-c4dd-493b-cb28-4320b9d99c10"
   },
   "outputs": [],
   "source": []
  }
 ],
 "metadata": {
  "accelerator": "GPU",
  "colab": {
   "gpuType": "A100",
   "name": "",
   "provenance": [
    {
     "file_id": "/v2/external/notebooks/intro.ipynb",
     "timestamp": 1743030397572
    }
   ],
   "version": ""
  },
  "kernelspec": {
   "display_name": "Python 3",
   "name": "python3"
  }
 },
 "nbformat": 4,
 "nbformat_minor": 0
}
